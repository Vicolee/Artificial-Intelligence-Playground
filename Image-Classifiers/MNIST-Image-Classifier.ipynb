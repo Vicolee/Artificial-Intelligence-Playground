{
  "nbformat": 4,
  "nbformat_minor": 0,
  "metadata": {
    "colab": {
      "name": "Basic Image classifier.ipynb",
      "provenance": [],
      "collapsed_sections": []
    },
    "kernelspec": {
      "name": "python3",
      "display_name": "Python 3"
    },
    "accelerator": "TPU"
  },
  "cells": [
    {
      "cell_type": "code",
      "metadata": {
        "id": "pnPRnVnlD05V",
        "colab_type": "code",
        "outputId": "0642aa37-a323-4d74-d1c2-4a4ea17db2cd",
        "colab": {
          "base_uri": "https://localhost:8080/",
          "height": 54
        }
      },
      "source": [
        "%tensorflow_version 2.x\n",
        "from __future__ import absolute_import, division, print_function, unicode_literals\n",
        "import tensorflow as tf\n",
        "from tensorflow import keras\n",
        "from tensorflow.keras import layers, models, datasets\n",
        "import numpy as np\n",
        "import matplotlib.pyplot as plt"
      ],
      "execution_count": 0,
      "outputs": [
        {
          "output_type": "stream",
          "text": [
            "TensorFlow 2.x selected.\n",
            "2.1.0-rc1\n"
          ],
          "name": "stdout"
        }
      ]
    },
    {
      "cell_type": "code",
      "metadata": {
        "id": "KJygGvR_D4se",
        "colab_type": "code",
        "outputId": "3fb5600e-7100-4792-ec9b-e0b282e775a0",
        "colab": {
          "base_uri": "https://localhost:8080/",
          "height": 35
        }
      },
      "source": [
        "(train_images, train_labels), (test_images, test_labels) = datasets.mnist.load_data()\n",
        "train_images = train_images.reshape([60000, 28, 28, 1])\n",
        "test_images = test_images.reshape([10000, 28, 28, 1])\n",
        "print(train_images.shape, test_images.shape)"
      ],
      "execution_count": 0,
      "outputs": [
        {
          "output_type": "stream",
          "text": [
            "(60000, 28, 28, 1) (10000, 28, 28, 1)\n"
          ],
          "name": "stdout"
        }
      ]
    },
    {
      "cell_type": "code",
      "metadata": {
        "id": "tl748saFEeou",
        "colab_type": "code",
        "outputId": "f8c87e06-79ea-4977-966e-0aaa0d0bb1dc",
        "colab": {
          "base_uri": "https://localhost:8080/",
          "height": 265
        }
      },
      "source": [
        "# Preprocess the data\n",
        "train_images_1 = train_images.reshape([60000, 28, 28])\n",
        "test_images_1 = test_images.reshape([10000, 28, 28])\n",
        "plt.figure()\n",
        "plt.imshow(train_images_1[0])\n",
        "plt.colorbar()\n",
        "plt.grid(True)\n",
        "plt.show()"
      ],
      "execution_count": 0,
      "outputs": [
        {
          "output_type": "display_data",
          "data": {
            "image/png": "[encoded data removed]",
            "text/plain": [
              "<Figure size 432x288 with 2 Axes>"
            ]
          },
          "metadata": {
            "tags": []
          }
        }
      ]
    },
    {
      "cell_type": "code",
      "metadata": {
        "id": "9CGTAWbNHf1e",
        "colab_type": "code",
        "colab": {}
      },
      "source": [
        "# Scale the values to 0-1 - Normalize\n",
        "train_images = train_images / 255.0\n",
        "test_images = test_images / 255.0"
      ],
      "execution_count": 0,
      "outputs": []
    },
    {
      "cell_type": "code",
      "metadata": {
        "id": "mzYUy5OJIB_g",
        "colab_type": "code",
        "outputId": "f218e0ab-1976-4167-e549-e1f71491d4a7",
        "colab": {
          "base_uri": "https://localhost:8080/",
          "height": 589
        }
      },
      "source": [
        "# Verify tat the data is in the correct format and ready to build the network\n",
        "plt.figure(figsize=(10,10))\n",
        "for i in range(25):\n",
        "    plt.subplot(5,5,i+1)\n",
        "    plt.xticks([])\n",
        "    plt.yticks([])\n",
        "    plt.grid(False)\n",
        "    plt.imshow(train_images_1[i], cmap=plt.cm.binary) # displays as grayscale\n",
        "    plt.xlabel(train_labels[i])\n",
        "plt.show()"
      ],
      "execution_count": 0,
      "outputs": [
        {
          "output_type": "display_data",
          "data": {
            "image/png": "[encoded data removed]",
            "text/plain": [
              "<Figure size 720x720 with 25 Axes>"
            ]
          },
          "metadata": {
            "tags": []
          }
        }
      ]
    },
    {
      "cell_type": "code",
      "metadata": {
        "id": "vVovt0YoH-sG",
        "colab_type": "code",
        "colab": {}
      },
      "source": [
        "# Build the model\n",
        "model = models.Sequential()\n",
        "model.add(layers.Conv2D(32, (3,3), input_shape=(28,28,1)))\n",
        "model.add(layers.LeakyReLU(alpha=0.2))\n",
        "model.add(layers.MaxPooling2D((2,2)))\n",
        "model.add(layers.Dropout(0.2))\n",
        "\n",
        "model.add(layers.Conv2D(64, (3,3)))\n",
        "model.add(layers.LeakyReLU(alpha=0.2))\n",
        "model.add(layers.Dropout(0.2))\n",
        "\n",
        "# add dense layers\n",
        "model.add(layers.Flatten())\n",
        "model.add(layers.Dense(128))\n",
        "model.add(layers.LeakyReLU(alpha=0.2))\n",
        "model.add(layers.Dropout(0.2))\n",
        "\n",
        "model.add(layers.Dense(64))\n",
        "model.add(layers.LeakyReLU(alpha=0.2))\n",
        "model.add(layers.Dropout(0.2))\n",
        "\n",
        "model.add(layers.Dense(10)) # 10 nodes\n",
        "model.add(layers.LeakyReLU(alpha=0.2))\n",
        "\n",
        "model.add(layers.Dense(10, activation='softmax')) # To output 10 classes"
      ],
      "execution_count": 0,
      "outputs": []
    },
    {
      "cell_type": "code",
      "metadata": {
        "id": "F2JB3Vh-MZcO",
        "colab_type": "code",
        "colab": {}
      },
      "source": [
        "# Compile the model\n",
        "model.compile(optimizer='adam',\n",
        "              loss='sparse_categorical_crossentropy',\n",
        "              metrics=['accuracy'])    # use categorical_crossentropy if outputs are one-hot. If integers, use spare_categorical_crossentropy"
      ],
      "execution_count": 0,
      "outputs": []
    },
    {
      "cell_type": "code",
      "metadata": {
        "id": "Qa65ER5zM9e9",
        "colab_type": "code",
        "outputId": "9821084f-020e-42a3-f5f1-c76f069d9ca6",
        "colab": {
          "base_uri": "https://localhost:8080/",
          "height": 563
        }
      },
      "source": [
        "# Train the model\n",
        "train_losses = []\n",
        "test_losses = []\n",
        "iteration_checkpoints = []\n",
        "train_batch_size = 128\n",
        "test_batch_size = 40\n",
        "epochs = 10\n",
        "iteration = 0\n",
        "iterations = int(60000/train_batch_size)\n",
        "for epoch in range(epochs):                         # For number of epochs\n",
        "  print('Epoch Count:', epoch)\n",
        "  if iteration == 0:\n",
        "    print('Iteration Count:', 0)\n",
        "    print('Training has not start yet.')\n",
        "  else:\n",
        "    print('Iteration Count:', iteration_checkpoints[-1])\n",
        "    print('Epoch =', epoch, ',', history.history)\n",
        "  for i in range(iterations):                                         # For number of iterations\n",
        "    iteration += 1\n",
        "    # Select batch_size of 128 randomized images for training set\n",
        "    train_idx = np.random.randint(0, train_images.shape[0], train_batch_size) # Randomized indices of training set\n",
        "    train_imgs = train_images[train_idx]                                      # Retrieve train images\n",
        "    train_imgs_label = train_labels[train_idx]                                # Match train images with train labels\n",
        "    # Select batch_size of  randomized images for test set\n",
        "    test_idx = np.random.randint(0, test_images.shape[0], test_batch_size)    # Randomized indices of test set\n",
        "    test_imgs = test_images[test_idx]                                         # Retrieve test images\n",
        "    test_imgs_label = test_labels[test_idx]                                   # Match test images with test labels\n",
        "    history = model.fit(train_imgs, train_imgs_label, epochs=1, batch_size=train_batch_size, steps_per_epoch=1, validation_data=(test_imgs, test_imgs_label), verbose=0) # \"Fits\" the model in the training data\n",
        "    train_losses.append(history.history['loss'])\n",
        "    test_losses.append(history.history['val_loss']*100)\n",
        "    if i == 0:\n",
        "      iteration_checkpoints.append(i)\n",
        "    else:\n",
        "      iteration_checkpoints.append(iteration)"
      ],
      "execution_count": 0,
      "outputs": [
        {
          "output_type": "stream",
          "text": [
            "Epoch Count: 0\n",
            "Iteration Count: 0\n",
            "Training has not start yet.\n",
            "Epoch Count: 1\n",
            "Iteration Count: 468\n",
            "Epoch = 1 , {'loss': [0.07847589254379272], 'accuracy': [0.984375], 'val_loss': [0.09339933097362518], 'val_accuracy': [0.975]}\n",
            "Epoch Count: 2\n",
            "Iteration Count: 936\n",
            "Epoch = 2 , {'loss': [0.07763931155204773], 'accuracy': [0.96875], 'val_loss': [0.21214242279529572], 'val_accuracy': [0.925]}\n",
            "Epoch Count: 3\n",
            "Iteration Count: 1404\n",
            "Epoch = 3 , {'loss': [0.06723841279745102], 'accuracy': [0.9921875], 'val_loss': [0.0008860712987370789], 'val_accuracy': [1.0]}\n",
            "Epoch Count: 4\n",
            "Iteration Count: 1872\n",
            "Epoch = 4 , {'loss': [0.011601520702242851], 'accuracy': [1.0], 'val_loss': [0.006283519323915243], 'val_accuracy': [1.0]}\n",
            "Epoch Count: 5\n",
            "Iteration Count: 2340\n",
            "Epoch = 5 , {'loss': [0.010148937813937664], 'accuracy': [0.9921875], 'val_loss': [0.010416505858302116], 'val_accuracy': [1.0]}\n",
            "Epoch Count: 6\n",
            "Iteration Count: 2808\n",
            "Epoch = 6 , {'loss': [0.02131793648004532], 'accuracy': [0.9921875], 'val_loss': [0.006171883549541235], 'val_accuracy': [1.0]}\n",
            "Epoch Count: 7\n",
            "Iteration Count: 3276\n",
            "Epoch = 7 , {'loss': [0.02140991948544979], 'accuracy': [0.9921875], 'val_loss': [0.06600025296211243], 'val_accuracy': [0.975]}\n",
            "Epoch Count: 8\n",
            "Iteration Count: 3744\n",
            "Epoch = 8 , {'loss': [0.010161124169826508], 'accuracy': [1.0], 'val_loss': [0.0007471634307876229], 'val_accuracy': [1.0]}\n",
            "Epoch Count: 9\n",
            "Iteration Count: 4212\n",
            "Epoch = 9 , {'loss': [0.01706799492239952], 'accuracy': [1.0], 'val_loss': [0.0009363748249597847], 'val_accuracy': [1.0]}\n"
          ],
          "name": "stdout"
        }
      ]
    },
    {
      "cell_type": "code",
      "metadata": {
        "id": "koq0pvDXOdpV",
        "colab_type": "code",
        "outputId": "e30161a8-e848-4cd6-fc17-bed29349437b",
        "colab": {
          "base_uri": "https://localhost:8080/",
          "height": 72
        }
      },
      "source": [
        "# Evaluate loss and accuracy\n",
        "test_loss, test_acc = model.evaluate(test_images, test_labels, verbose=1)\n",
        "print('\\nTest accuracy:', test_acc) # Note: The gap between test accuracy & training accuracy signifies overfitting"
      ],
      "execution_count": 0,
      "outputs": [
        {
          "output_type": "stream",
          "text": [
            "10000/10000 [==============================] - 4s 369us/sample - loss: 0.0396 - accuracy: 0.9895\n",
            "\n",
            "Test accuracy: 0.9895\n"
          ],
          "name": "stdout"
        }
      ]
    },
    {
      "cell_type": "code",
      "metadata": {
        "id": "H0rYhLOYOrR9",
        "colab_type": "code",
        "outputId": "b18374f9-2bf3-4b3b-8985-331b79d16cdf",
        "colab": {
          "base_uri": "https://localhost:8080/",
          "height": 35
        }
      },
      "source": [
        "# make predictions\n",
        "predictions = model.predict(test_images)\n",
        "model.predict(test_images)\n",
        "predictions[0]\n",
        "np.argmax(predictions[0]) # argmax returns the value of the index\n"
      ],
      "execution_count": 0,
      "outputs": [
        {
          "output_type": "execute_result",
          "data": {
            "text/plain": [
              "7"
            ]
          },
          "metadata": {
            "tags": []
          },
          "execution_count": 11
        }
      ]
    },
    {
      "cell_type": "code",
      "metadata": {
        "id": "4JO66RbXQQEs",
        "colab_type": "code",
        "outputId": "57980e0a-11a9-4726-c53a-30c112f910c3",
        "colab": {
          "base_uri": "https://localhost:8080/",
          "height": 283
        }
      },
      "source": [
        "plt.imshow(test_images_1[0])\n",
        "test_labels[0]"
      ],
      "execution_count": 0,
      "outputs": [
        {
          "output_type": "execute_result",
          "data": {
            "text/plain": [
              "7"
            ]
          },
          "metadata": {
            "tags": []
          },
          "execution_count": 12
        },
        {
          "output_type": "display_data",
          "data": {
            "image/png": "[encoded data removed]",
            "text/plain": [
              "<Figure size 432x288 with 1 Axes>"
            ]
          },
          "metadata": {
            "tags": []
          }
        }
      ]
    },
    {
      "cell_type": "code",
      "metadata": {
        "id": "l7SZoxHbROy4",
        "colab_type": "code",
        "outputId": "bee23d26-0eea-4424-d96f-1b54346a03bc",
        "colab": {
          "base_uri": "https://localhost:8080/",
          "height": 279
        }
      },
      "source": [
        "plt.plot(iteration_checkpoints[::400], train_losses[::400], 'r')\n",
        "plt.plot(iteration_checkpoints[::400], test_losses[::400], 'b')\n",
        "plt.xlabel('Iterations')\n",
        "plt.ylabel('Loss')\n",
        "plt.legend(['training loss', 'validation loss'])\n",
        "plt.show()"
      ],
      "execution_count": 0,
      "outputs": [
        {
          "output_type": "display_data",
          "data": {
            "image/png": "[encoded data removed]",
            "text/plain": [
              "<Figure size 432x288 with 1 Axes>"
            ]
          },
          "metadata": {
            "tags": []
          }
        }
      ]
    }
  ]
}